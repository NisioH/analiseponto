{
 "cells": [
  {
   "cell_type": "code",
   "execution_count": null,
   "id": "c0cd7781489efb75",
   "metadata": {},
   "outputs": [],
   "source": [
    "######### NOVO CÓDIGO 333333333333333"
   ]
  },
  {
   "cell_type": "code",
   "execution_count": null,
   "id": "7c66ba5369e245fd",
   "metadata": {
    "ExecuteTime": {
     "end_time": "2025-10-26T18:35:14.458160Z",
     "start_time": "2025-10-26T18:35:14.453489Z"
    }
   },
   "outputs": [],
   "source": [
    "import pandas as pd\n",
    "from datetime import date, timedelta, datetime\n",
    "import re\n",
    "\n",
    "# Define a data de ontem\n",
    "hoje = date.today()\n",
    "#ontem = date(2025, 10, 21)\n",
    "\n",
    "print(f\"Filtrando registros para: {hoje.strftime('%d/%m/%Y')}\")\n"
   ]
  },
  {
   "cell_type": "code",
   "execution_count": null,
   "id": "8a2464b53773fecb",
   "metadata": {
    "ExecuteTime": {
     "end_time": "2025-10-26T18:35:18.338199Z",
     "start_time": "2025-10-26T18:35:16.663800Z"
    }
   },
   "outputs": [],
   "source": [
    "arquivos = ['Ponto_Algodoeira.txt', 'Ponto_Escritorio.txt', 'Ponto_Sede.txt', 'Ponto_Secador.txt']\n",
    "dfs_ponto = []\n",
    "\n",
    "for arquivo in arquivos:\n",
    "    df = pd.read_csv(arquivo, header=None, names=['linha_completa'], encoding='latin-1')\n",
    "    df['sequencia'] = df['linha_completa'].str.slice(0, 10)\n",
    "    df['data'] = pd.to_datetime(df['linha_completa'].str.slice(10, 18), format='%d%m%Y', errors='coerce')\n",
    "    df['hora'] = pd.to_datetime(df['linha_completa'].str.slice(18, 22), format='%H%M', errors='coerce').dt.time\n",
    "    df['data_hora'] = pd.to_datetime(\n",
    "        df['data'].dt.strftime('%d/%m/%Y') + ' ' + df['hora'].astype(str),\n",
    "        format='%d/%m/%Y %H:%M',\n",
    "        errors='coerce'\n",
    "    )\n",
    "    df['NIT'] = df['linha_completa'].apply(lambda linha: re.findall(r'\\d{11}', linha)[-1] if re.findall(r'\\d{11}', linha) else None)\n",
    "    dfs_ponto.append(df)\n",
    "    df['origem'] = arquivo  # Marca de qual arquivo veio cada linha\n",
    "\n",
    "# Junta todos os arquivos processados\n",
    "df_ponto = pd.concat(dfs_ponto, ignore_index=True)\n",
    "\n"
   ]
  },
  {
   "cell_type": "code",
   "execution_count": null,
   "id": "bc6997fa2b1eb3b3",
   "metadata": {
    "ExecuteTime": {
     "end_time": "2025-10-26T18:35:26.366811Z",
     "start_time": "2025-10-26T18:35:26.320983Z"
    }
   },
   "outputs": [],
   "source": [
    "# Fixar a data\n",
    "data_alvo = hoje\n",
    "\n",
    "# Filtrar registros da data\n",
    "df_dia = df_ponto[df_ponto['data'].dt.date == data_alvo]\n",
    "\n",
    "# Contar quantos registros cada NIT teve\n",
    "contagem = df_dia['NIT'].value_counts()\n",
    "\n",
    "# Filtrar apenas NITs com um único registro\n",
    "nits_unicos = contagem[contagem == 1].index\n",
    "\n",
    "# Salvar em arquivo .txt\n",
    "nome_arquivo_nits = 'nits_unicos.txt'\n",
    "\n",
    "try:\n",
    "    with open(nome_arquivo_nits, 'w', encoding='utf-8') as f:\n",
    "        f.write(f\"NITs com ponto único em {data_alvo.strftime('%d/%m/%Y')}\\n\")\n",
    "        f.write(\"=\" * 40 + \"\\n\\n\")\n",
    "        for nit in nits_unicos:\n",
    "            f.write(f\"{nit}\\n\")\n",
    "    print(f\"\\n✓ Arquivo gerado com sucesso: {nome_arquivo_nits}\")\n",
    "except Exception as e:\n",
    "    print(f\"\\n✗ Erro ao salvar arquivo: {e}\")\n"
   ]
  },
  {
   "cell_type": "code",
   "execution_count": null,
   "id": "7014fc16734c65a8",
   "metadata": {
    "ExecuteTime": {
     "end_time": "2025-10-26T18:36:15.335087Z",
     "start_time": "2025-10-26T18:36:15.282072Z"
    }
   },
   "outputs": [],
   "source": [
    "# Fixar a data\n",
    "data_alvo = hoje\n",
    "\n",
    "# Filtrar registros da data\n",
    "df_dia = df_ponto[df_ponto['data'].dt.date == data_alvo]\n",
    "\n",
    "# Contar quantos registros cada NIT teve\n",
    "contagem = df_dia['NIT'].value_counts()\n",
    "\n",
    "# Filtrar apenas NITs com um único registro\n",
    "nits_unicos = contagem[contagem == 1].index\n",
    "\n",
    "# Filtrar DataFrame com esses NITs\n",
    "df_unico = df_dia[df_dia['NIT'].isin(nits_unicos)]\n",
    "\n",
    "# Contar por origem\n",
    "resultado = df_unico['origem'].value_counts()\n",
    "print(resultado)\n"
   ]
  }
 ],
 "metadata": {
  "kernelspec": {
   "display_name": "venv",
   "language": "python",
   "name": "python3"
  },
  "language_info": {
   "codemirror_mode": {
    "name": "ipython",
    "version": 3
   },
   "file_extension": ".py",
   "mimetype": "text/x-python",
   "name": "python",
   "nbconvert_exporter": "python",
   "pygments_lexer": "ipython3",
   "version": "3.12.3"
  }
 },
 "nbformat": 4,
 "nbformat_minor": 5
}
