{
 "cells": [
  {
   "metadata": {},
   "cell_type": "code",
   "source": "######### NOVO CÓDIGO 333333333333333",
   "id": "c0cd7781489efb75",
   "outputs": [],
   "execution_count": null
  },
  {
   "metadata": {
    "ExecuteTime": {
     "end_time": "2025-10-26T18:35:14.458160Z",
     "start_time": "2025-10-26T18:35:14.453489Z"
    }
   },
   "cell_type": "code",
   "source": [
    "import pandas as pd\n",
    "from datetime import date, timedelta, datetime\n",
    "import re\n",
    "\n",
    "# Define a data de ontem\n",
    "hoje = date.today()\n",
    "ontem = date(2025, 10, 21)\n",
    "\n",
    "print(f\"Filtrando registros para: {ontem.strftime('%d/%m/%Y')}\")\n"
   ],
   "id": "7c66ba5369e245fd",
   "outputs": [
    {
     "name": "stdout",
     "output_type": "stream",
     "text": [
      "Filtrando registros para: 21/10/2025\n"
     ]
    }
   ],
   "execution_count": 36
  },
  {
   "metadata": {
    "ExecuteTime": {
     "end_time": "2025-10-26T18:35:18.338199Z",
     "start_time": "2025-10-26T18:35:16.663800Z"
    }
   },
   "cell_type": "code",
   "source": [
    "arquivos = ['PontoColaboradores.txt', 'Ponto_Escritorio.txt', 'Ponto_Sede.txt', 'Ponto_Secador.txt']\n",
    "dfs_ponto = []\n",
    "\n",
    "for arquivo in arquivos:\n",
    "    df = pd.read_csv(arquivo, header=None, names=['linha_completa'], encoding='latin-1')\n",
    "    df['sequencia'] = df['linha_completa'].str.slice(0, 10)\n",
    "    df['data'] = pd.to_datetime(df['linha_completa'].str.slice(10, 18), format='%d%m%Y', errors='coerce')\n",
    "    df['hora'] = pd.to_datetime(df['linha_completa'].str.slice(18, 22), format='%H%M', errors='coerce').dt.time\n",
    "    df['data_hora'] = pd.to_datetime(\n",
    "        df['data'].dt.strftime('%d/%m/%Y') + ' ' + df['hora'].astype(str),\n",
    "        format='%d/%m/%Y %H:%M',\n",
    "        errors='coerce'\n",
    "    )\n",
    "    df['NIT'] = df['linha_completa'].apply(lambda linha: re.findall(r'\\d{11}', linha)[-1] if re.findall(r'\\d{11}', linha) else None)\n",
    "    dfs_ponto.append(df)\n",
    "    df['origem'] = arquivo  # Marca de qual arquivo veio cada linha\n",
    "\n",
    "# Junta todos os arquivos processados\n",
    "df_ponto = pd.concat(dfs_ponto, ignore_index=True)\n",
    "\n"
   ],
   "id": "8a2464b53773fecb",
   "outputs": [],
   "execution_count": 37
  },
  {
   "metadata": {
    "ExecuteTime": {
     "end_time": "2025-10-26T18:35:26.366811Z",
     "start_time": "2025-10-26T18:35:26.320983Z"
    }
   },
   "cell_type": "code",
   "source": [
    "# Fixar a data\n",
    "data_alvo = date(2025, 10, 21)\n",
    "\n",
    "# Filtrar registros da data\n",
    "df_dia = df_ponto[df_ponto['data'].dt.date == data_alvo]\n",
    "\n",
    "# Contar quantos registros cada NIT teve\n",
    "contagem = df_dia['NIT'].value_counts()\n",
    "\n",
    "# Filtrar apenas NITs com um único registro\n",
    "nits_unicos = contagem[contagem == 1].index\n",
    "\n",
    "# Salvar em arquivo .txt\n",
    "nome_arquivo_nits = 'nits_unicos_24102025.txt'\n",
    "\n",
    "try:\n",
    "    with open(nome_arquivo_nits, 'w', encoding='utf-8') as f:\n",
    "        f.write(f\"NITs com ponto único em {data_alvo.strftime('%d/%m/%Y')}\\n\")\n",
    "        f.write(\"=\" * 40 + \"\\n\\n\")\n",
    "        for nit in nits_unicos:\n",
    "            f.write(f\"{nit}\\n\")\n",
    "    print(f\"\\n✓ Arquivo gerado com sucesso: {nome_arquivo_nits}\")\n",
    "except Exception as e:\n",
    "    print(f\"\\n✗ Erro ao salvar arquivo: {e}\")\n"
   ],
   "id": "bc6997fa2b1eb3b3",
   "outputs": [
    {
     "name": "stdout",
     "output_type": "stream",
     "text": [
      "\n",
      "✓ Arquivo gerado com sucesso: nits_unicos_24102025.txt\n"
     ]
    }
   ],
   "execution_count": 38
  },
  {
   "metadata": {
    "ExecuteTime": {
     "end_time": "2025-10-26T18:36:15.335087Z",
     "start_time": "2025-10-26T18:36:15.282072Z"
    }
   },
   "cell_type": "code",
   "source": [
    "# Fixar a data\n",
    "data_alvo = date(2025, 10, 21)\n",
    "\n",
    "# Filtrar registros da data\n",
    "df_dia = df_ponto[df_ponto['data'].dt.date == data_alvo]\n",
    "\n",
    "# Contar quantos registros cada NIT teve\n",
    "contagem = df_dia['NIT'].value_counts()\n",
    "\n",
    "# Filtrar apenas NITs com um único registro\n",
    "nits_unicos = contagem[contagem == 1].index\n",
    "\n",
    "# Filtrar DataFrame com esses NITs\n",
    "df_unico = df_dia[df_dia['NIT'].isin(nits_unicos)]\n",
    "\n",
    "# Contar por origem\n",
    "resultado = df_unico['origem'].value_counts()\n",
    "print(resultado)\n"
   ],
   "id": "7014fc16734c65a8",
   "outputs": [
    {
     "name": "stdout",
     "output_type": "stream",
     "text": [
      "origem\n",
      "Ponto_Escritorio.txt      4\n",
      "PontoColaboradores.txt    2\n",
      "Ponto_Secador.txt         1\n",
      "Name: count, dtype: int64\n"
     ]
    }
   ],
   "execution_count": 39
  },
  {
   "metadata": {
    "ExecuteTime": {
     "end_time": "2025-10-27T02:07:10.391120Z",
     "start_time": "2025-10-27T02:07:10.362306Z"
    }
   },
   "cell_type": "code",
   "source": [
    "df_ponto['data_str'] = df_ponto['data'].dt.strftime('%d/%m/%Y')\n",
    "print(df_ponto[df_ponto['data_str'] == '21/10/2025']['origem'].value_counts())\n"
   ],
   "id": "1fd92f9421763c",
   "outputs": [
    {
     "ename": "NameError",
     "evalue": "name 'df_ponto' is not defined",
     "output_type": "error",
     "traceback": [
      "\u001B[31m---------------------------------------------------------------------------\u001B[39m",
      "\u001B[31mNameError\u001B[39m                                 Traceback (most recent call last)",
      "\u001B[36mCell\u001B[39m\u001B[36m \u001B[39m\u001B[32mIn[2]\u001B[39m\u001B[32m, line 1\u001B[39m\n\u001B[32m----> \u001B[39m\u001B[32m1\u001B[39m df_ponto[\u001B[33m'\u001B[39m\u001B[33mdata_str\u001B[39m\u001B[33m'\u001B[39m] = \u001B[43mdf_ponto\u001B[49m[\u001B[33m'\u001B[39m\u001B[33mdata\u001B[39m\u001B[33m'\u001B[39m].dt.strftime(\u001B[33m'\u001B[39m\u001B[38;5;132;01m%d\u001B[39;00m\u001B[33m/\u001B[39m\u001B[33m%\u001B[39m\u001B[33mm/\u001B[39m\u001B[33m%\u001B[39m\u001B[33mY\u001B[39m\u001B[33m'\u001B[39m)\n\u001B[32m      2\u001B[39m \u001B[38;5;28mprint\u001B[39m(df_ponto[df_ponto[\u001B[33m'\u001B[39m\u001B[33mdata_str\u001B[39m\u001B[33m'\u001B[39m] == \u001B[33m'\u001B[39m\u001B[33m21/10/2025\u001B[39m\u001B[33m'\u001B[39m][\u001B[33m'\u001B[39m\u001B[33morigem\u001B[39m\u001B[33m'\u001B[39m].value_counts())\n",
      "\u001B[31mNameError\u001B[39m: name 'df_ponto' is not defined"
     ]
    }
   ],
   "execution_count": 2
  }
 ],
 "metadata": {
  "kernelspec": {
   "display_name": "Python 3",
   "language": "python",
   "name": "python3"
  },
  "language_info": {
   "codemirror_mode": {
    "name": "ipython",
    "version": 2
   },
   "file_extension": ".py",
   "mimetype": "text/x-python",
   "name": "python",
   "nbconvert_exporter": "python",
   "pygments_lexer": "ipython2",
   "version": "2.7.6"
  }
 },
 "nbformat": 4,
 "nbformat_minor": 5
}
