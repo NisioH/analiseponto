{
 "cells": [
  {
   "cell_type": "code",
   "id": "c0cd7781489efb75",
   "metadata": {},
   "source": [
    "######### NOVO CÓDIGO 333333333333333"
   ],
   "outputs": [],
   "execution_count": null
  },
  {
   "cell_type": "code",
   "id": "7c66ba5369e245fd",
   "metadata": {
    "ExecuteTime": {
     "end_time": "2025-10-28T03:21:39.504776Z",
     "start_time": "2025-10-28T03:21:39.499517Z"
    }
   },
   "source": [
    "import pandas as pd\n",
    "from datetime import date, timedelta, datetime\n",
    "import re\n",
    "\n",
    "# Define a data de ontem\n",
    "hoje = date.today()\n",
    "#ontem = date(2025, 10, 21)\n",
    "\n",
    "print(f\"Filtrando registros para: {hoje.strftime('%d/%m/%Y')}\")\n"
   ],
   "outputs": [
    {
     "name": "stdout",
     "output_type": "stream",
     "text": [
      "Filtrando registros para: 27/10/2025\n"
     ]
    }
   ],
   "execution_count": 32
  },
  {
   "cell_type": "code",
   "id": "8a2464b53773fecb",
   "metadata": {
    "ExecuteTime": {
     "end_time": "2025-10-28T03:21:55.322130Z",
     "start_time": "2025-10-28T03:21:50.338154Z"
    }
   },
   "source": [
    "# import re # Certifique-se de ter importado a biblioteca 're'\n",
    "#\n",
    "# arquivos = ['Ponto_Algodoeira.txt', 'Ponto_Escritorio.txt', 'Ponto_Sede.txt', 'Ponto_Secador.txt']\n",
    "# dfs_ponto = []\n",
    "#\n",
    "# for arquivo in arquivos:\n",
    "#\n",
    "#     df = pd.read_csv(arquivo, header=None, names=['linha_completa'], encoding='latin-1')\n",
    "#     df['sequencia'] = df['linha_completa'].str.slice(0, 10)\n",
    "#     df['data'] = pd.to_datetime(df['linha_completa'].str.slice(10, 18), format='%d%m%Y', errors='coerce')\n",
    "#     df['hora'] = pd.to_datetime(df['linha_completa'].str.slice(18, 22), format='%H%M', errors='coerce').dt.time\n",
    "#     df['data_hora'] = pd.to_datetime(\n",
    "#         df['data'].dt.strftime('%d/%m/%Y') + ' ' + df['hora'].astype(str),\n",
    "#         format='%d/%m/%Y %H:%M',\n",
    "#         errors='coerce'\n",
    "#     )\n",
    "#     #    0001524263 01072024 0657 021207043801adb7\n",
    "#\n",
    "#     #df['NIT'] = df['linha_completa'].apply(lambda linha: re.findall(r'\\d{11}', linha)[-1] if re.findall(r'\\d{11}', linha) else None)\n",
    "#     #df['NIT'] = df['linha_completa'].apply(lambda linha: re.findall(r'[1-9]\\d{10}', linha)[-1] if re.findall(r'[1-9]\\d{10}', linha) else None)\n",
    "#\n",
    "#     # ... (extrações de data e hora)\n",
    "#\n",
    "#     # Função para extrair o NIT com base em ser o segundo padrão de 10/11 dígitos\n",
    "#     def extrair_nit_segundo_padrao(linha):\n",
    "#         # A regex busca o primeiro número (\\d{10,11}), qualquer coisa (.*?), e CAPTURA o segundo\n",
    "#         match = re.search(r'\\d{10,11}.*?(\\d{10,11})', linha)\n",
    "#\n",
    "#         if match:\n",
    "#             # Retorna o segundo número encontrado\n",
    "#             return match.group(1)\n",
    "#\n",
    "#         # Caso só haja um único número (ex: o arquivo só tem o NIT)\n",
    "#         nits_encontrados = re.findall(r'\\d{10,11}', linha)\n",
    "#         if len(nits_encontrados) == 1:\n",
    "#             return nits_encontrados[0]\n",
    "#\n",
    "#         return None\n",
    "#\n",
    "#     df['NIT'] = df['linha_completa'].apply(extrair_nit_segundo_padrao)\n",
    "#\n",
    "#     # ... (criação da coluna 'origem' e append)\n",
    "#\n",
    "# # ... (restante do código)\n",
    "#     df['origem'] = arquivo\n",
    "#     dfs_ponto.append(df)\n",
    "#\n",
    "#\n",
    "# # Junta todos os arquivos processados\n",
    "# df_ponto = pd.concat(dfs_ponto, ignore_index=True)\n",
    "#\n",
    "\n",
    "import pandas as pd\n",
    "# Não é necessário importar 're' para esta solução\n",
    "\n",
    "arquivos = ['Ponto_Algodoeira.txt', 'Ponto_Escritorio.txt', 'Ponto_Sede.txt', 'Ponto_Secador.txt']\n",
    "dfs_ponto = []\n",
    "\n",
    "# --- 1. Loop para processar cada arquivo ---\n",
    "for arquivo in arquivos:\n",
    "\n",
    "    # 1.1. Leitura do arquivo CSV (ou TXT)\n",
    "    # header=None: indica que o arquivo não tem cabeçalho\n",
    "    # names=['linha_completa']: dá nome à única coluna\n",
    "    df = pd.read_csv(arquivo, header=None, names=['linha_completa'], encoding='latin-1')\n",
    "\n",
    "    # 1.2. Extração de campos baseados em posição fixa (já validados)\n",
    "    df['sequencia'] = df['linha_completa'].str.slice(0, 10)\n",
    "    df['data'] = pd.to_datetime(df['linha_completa'].str.slice(10, 18), format='%d%m%Y', errors='coerce')\n",
    "    df['hora'] = pd.to_datetime(df['linha_completa'].str.slice(18, 22), format='%H%M', errors='coerce').dt.time\n",
    "\n",
    "    # 1.3. Combinação de Data e Hora\n",
    "    df['data_hora'] = pd.to_datetime(\n",
    "        df['data'].dt.strftime('%d/%m/%Y') + ' ' + df['hora'].astype(str),\n",
    "        format='%d/%m/%Y %H:%M',\n",
    "        errors='coerce'\n",
    "    )\n",
    "\n",
    "    # 🌟 1.4. SOLUÇÃO CORRIGIDA PARA EXTRAÇÃO DO NIT (10 OU 11 DÍGITOS) 🌟\n",
    "    # O NIT começa na posição 24 e tem até 11 dígitos (termina na 35).\n",
    "\n",
    "    # Primeiro, fatiamos a área do NIT\n",
    "    nit_candidato = df['linha_completa'].str.slice(24, 35)\n",
    "\n",
    "    # Segundo, limpamos o valor, removendo QUALQUER caractere que não seja dígito.\n",
    "    # Isso garante que se o NIT for de 10 dígitos (ex: \"1234567890 \"), o espaço seja removido.\n",
    "    # E que o NIT de 11 dígitos seja mantido intacto (\"21207043801\").\n",
    "    df['NIT'] = nit_candidato.str.replace(r'[^\\d]', '', regex=True)\n",
    "\n",
    "    # 1.5. Adiciona a origem e coleta o DataFrame\n",
    "    df['origem'] = arquivo\n",
    "    dfs_ponto.append(df)\n",
    "\n",
    "# --- 2. Junta todos os arquivos processados ---\n",
    "df_ponto = pd.concat(dfs_ponto, ignore_index=True)\n",
    "\n",
    "# Exibe as primeiras linhas do resultado para verificação\n",
    "print(df_ponto[['linha_completa', 'data_hora', 'NIT']].head())\n",
    "\n",
    "# Fim do código completo.\n"
   ],
   "outputs": [
    {
     "name": "stdout",
     "output_type": "stream",
     "text": [
      "                                      linha_completa data_hora          NIT\n",
      "0  00000000012   19018223972370700014182WALDEMIR ...       NaT  23707000141\n",
      "1  000000001401012001000005022019111200000000000ae6f       NaT  02201911120\n",
      "2                           000000002606022019113806       NaT             \n",
      "3                           000000003606022019113902       NaT             \n",
      "4                           000000004606022019115702       NaT             \n"
     ]
    }
   ],
   "execution_count": 33
  },
  {
   "cell_type": "code",
   "id": "bc6997fa2b1eb3b3",
   "metadata": {
    "ExecuteTime": {
     "end_time": "2025-10-28T03:21:59.240242Z",
     "start_time": "2025-10-28T03:21:59.080334Z"
    }
   },
   "source": [
    "# Fixar a data\n",
    "data_alvo = hoje\n",
    "\n",
    "# Filtrar registros da data\n",
    "df_dia = df_ponto[df_ponto['data'].dt.date == data_alvo]\n",
    "\n",
    "# Contar quantos registros cada NIT teve\n",
    "contagem = df_dia['NIT'].value_counts()\n",
    "\n",
    "# Filtrar apenas NITs com um único registro\n",
    "nits_unicos = contagem[contagem == 1].index\n",
    "\n",
    "# Salvar em arquivo .txt\n",
    "nome_arquivo_nits = 'nits_unicos.txt'\n",
    "\n",
    "try:\n",
    "    with open(nome_arquivo_nits, 'w', encoding='utf-8') as f:\n",
    "        f.write(f\"NITs com ponto único em {data_alvo.strftime('%d/%m/%Y')}\\n\")\n",
    "        f.write(\"=\" * 40 + \"\\n\\n\")\n",
    "        for nit in nits_unicos:\n",
    "            f.write(f\"{nit}\\n\")\n",
    "    print(f\"\\n✓ Arquivo gerado com sucesso: {nome_arquivo_nits}\")\n",
    "except Exception as e:\n",
    "    print(f\"\\n✗ Erro ao salvar arquivo: {e}\")\n"
   ],
   "outputs": [
    {
     "name": "stdout",
     "output_type": "stream",
     "text": [
      "\n",
      "✓ Arquivo gerado com sucesso: nits_unicos.txt\n"
     ]
    }
   ],
   "execution_count": 34
  },
  {
   "cell_type": "code",
   "id": "7014fc16734c65a8",
   "metadata": {
    "ExecuteTime": {
     "end_time": "2025-10-28T03:22:04.500488Z",
     "start_time": "2025-10-28T03:22:04.348500Z"
    }
   },
   "source": [
    "# Fixar a data\n",
    "data_alvo = hoje\n",
    "\n",
    "# Filtrar registros da data\n",
    "df_dia = df_ponto[df_ponto['data'].dt.date == data_alvo]\n",
    "\n",
    "# Contar quantos registros cada NIT teve\n",
    "contagem = df_dia['NIT'].value_counts()\n",
    "\n",
    "# Filtrar apenas NITs com um único registro\n",
    "nits_unicos = contagem[contagem == 1].index\n",
    "\n",
    "# Filtrar DataFrame com esses NITs\n",
    "df_unico = df_dia[df_dia['NIT'].isin(nits_unicos)]\n",
    "\n",
    "# Contar por origem\n",
    "resultado = df_unico['origem'].value_counts()\n",
    "print(resultado)\n"
   ],
   "outputs": [
    {
     "name": "stdout",
     "output_type": "stream",
     "text": [
      "origem\n",
      "Ponto_Sede.txt          49\n",
      "Ponto_Algodoeira.txt    46\n",
      "Ponto_Escritorio.txt    29\n",
      "Ponto_Secador.txt        7\n",
      "Name: count, dtype: int64\n"
     ]
    }
   ],
   "execution_count": 35
  },
  {
   "cell_type": "code",
   "id": "1ac887fa",
   "metadata": {
    "ExecuteTime": {
     "end_time": "2025-10-28T03:22:22.938294Z",
     "start_time": "2025-10-28T03:22:22.858412Z"
    }
   },
   "source": [
    "\n",
    "# # Carrega os NITs únicos do arquivo de texto\n",
    "# with open('nits_unicos.txt', 'r', encoding='latin-1') as f:\n",
    "#     nits_batidos = set(line.strip() for line in f if line.strip())\n",
    "#\n",
    "# # Carrega os dados dos funcionários do Excel\n",
    "# df_funcionarios = pd.read_excel(r'Funcionarios.xlsx')\n",
    "#\n",
    "# # Filtra os funcionários que bateram o ponto\n",
    "# df_batidos = df_funcionarios[df_funcionarios['NIT'].astype(str).isin(nits_batidos)]\n",
    "#\n",
    "# # Exibe os nomes e seções dos funcionários que bateram o ponto\n",
    "# resultado = df_batidos[['Nome', 'Secao']]\n",
    "# print(resultado)\n",
    "\n",
    "#import pandas as pd\n",
    "import io # Importamos 'io' para usar um String Buffer na hora de salvar, melhorando a organização\n",
    "\n",
    "# --- 1. CARREGAMENTO DOS DADOS ---\n",
    "\n",
    "# Carrega os NITs únicos do arquivo de texto\n",
    "with open('nits_unicos.txt', 'r', encoding='latin-1') as f:\n",
    "    # Usamos set() para garantir busca rápida e apenas valores únicos\n",
    "    nits_batidos = set(line.strip() for line in f if line.strip())\n",
    "\n",
    "# Carrega os dados dos funcionários do Excel\n",
    "# É uma boa prática usar raw string (r'...') em caminhos de arquivo no Windows\n",
    "df_funcionarios = pd.read_excel(r'Funcionarios.xlsx')\n",
    "\n",
    "# --- 2. FILTRAGEM DOS DADOS ---\n",
    "\n",
    "# Filtra os funcionários que bateram o ponto\n",
    "# Converte a coluna 'NIT' para string antes de verificar se está no conjunto\n",
    "df_batidos = df_funcionarios[df_funcionarios['NIT'].astype(str).isin(nits_batidos)]\n",
    "\n",
    "# --- 3. AGRUPAMENTO E FORMATAÇÃO ---\n",
    "\n",
    "# Seleciona apenas as colunas de interesse\n",
    "resultado_df = df_batidos[['Nome', 'Secao']]\n",
    "\n",
    "# Ordena e Agrupa pela 'Secao'\n",
    "# O sort_values é opcional, mas ajuda a garantir a ordem dentro da seção\n",
    "resultado_df = resultado_df.sort_values(by=['Secao', 'Nome'])\n",
    "\n",
    "# Cria um objeto buffer para salvar o texto formatado\n",
    "output_buffer = io.StringIO()\n",
    "\n",
    "# Itera sobre os grupos e salva no buffer\n",
    "# `name` será o nome da Seção, e `group` será o DataFrame com os funcionários daquela seção\n",
    "for secao, grupo in resultado_df.groupby('Secao'):\n",
    "    # Escreve o nome da seção como um cabeçalho\n",
    "    output_buffer.write(f\"\\n========================================\\n\")\n",
    "    output_buffer.write(f\"SEÇÃO: {secao}\\n\")\n",
    "    output_buffer.write(f\"TOTAL DE FUNCIONÁRIOS NA SEÇÃO: {len(grupo)}\\n\")\n",
    "    output_buffer.write(f\"========================================\\n\")\n",
    "\n",
    "    # Escreve a lista de nomes\n",
    "    for nome in grupo['Nome']:\n",
    "        output_buffer.write(f\"- {nome}\\n\")\n",
    "    output_buffer.write(\"\\n\")\n",
    "\n",
    "\n",
    "# --- 4. SALVAMENTO NO ARQUIVO .TXT ---\n",
    "\n",
    "# Abre o arquivo para escrita e salva o conteúdo do buffer\n",
    "with open('Funcionarios_que_Bateram_Ponto.txt', 'w', encoding='utf-8') as f:\n",
    "    f.write(output_buffer.getvalue())\n",
    "\n",
    "# Exibe mensagem de sucesso\n",
    "print(\"\\n--- Processamento Concluído ---\")\n",
    "print(\"Os funcionários que bateram o ponto, agrupados por Seção, foram salvos em:\")\n",
    "print(\"Funcionarios_que_Bateram_Ponto.txt\")"
   ],
   "outputs": [
    {
     "name": "stdout",
     "output_type": "stream",
     "text": [
      "\n",
      "--- Processamento Concluído ---\n",
      "Os funcionários que bateram o ponto, agrupados por Seção, foram salvos em:\n",
      "Funcionarios_que_Bateram_Ponto.txt\n"
     ]
    }
   ],
   "execution_count": 36
  },
  {
   "cell_type": "code",
   "id": "30b281d2",
   "metadata": {},
   "source": [
    "nits_batidos  "
   ],
   "outputs": [],
   "execution_count": null
  }
 ],
 "metadata": {
  "kernelspec": {
   "display_name": "venv",
   "language": "python",
   "name": "python3"
  },
  "language_info": {
   "codemirror_mode": {
    "name": "ipython",
    "version": 3
   },
   "file_extension": ".py",
   "mimetype": "text/x-python",
   "name": "python",
   "nbconvert_exporter": "python",
   "pygments_lexer": "ipython3",
   "version": "3.12.3"
  }
 },
 "nbformat": 4,
 "nbformat_minor": 5
}
